{
 "cells": [
  {
   "cell_type": "markdown",
   "id": "732b01c6-babc-4ade-9beb-12e3fa21f07f",
   "metadata": {},
   "source": [
    "# Q 1.) Write a Python program to print \"Hello, World!\" "
   ]
  },
  {
   "cell_type": "code",
   "execution_count": 1,
   "id": "fe24aa69-bb4a-43f0-aa18-3e7b28b8a666",
   "metadata": {},
   "outputs": [
    {
     "name": "stdout",
     "output_type": "stream",
     "text": [
      "Hello, World!\n"
     ]
    }
   ],
   "source": [
    "print(\"Hello, World!\")"
   ]
  },
  {
   "cell_type": "markdown",
   "id": "d7bc3075-1a3e-4d6e-a448-ee4c5d984bd7",
   "metadata": {},
   "source": [
    "# Q 2.) Write a Python program to take two integers as input and print their sum."
   ]
  },
  {
   "cell_type": "code",
   "execution_count": 2,
   "id": "5e5d3781-c7a3-4669-9d76-9c03b7905ed1",
   "metadata": {},
   "outputs": [
    {
     "name": "stdin",
     "output_type": "stream",
     "text": [
      "Enter the first number :  5\n",
      "Enter the second number :  6\n"
     ]
    },
    {
     "name": "stdout",
     "output_type": "stream",
     "text": [
      "The sum of two number is :  11\n"
     ]
    }
   ],
   "source": [
    "a  = int(input(\"Enter the first number : \"))\n",
    "b = int(input(\"Enter the second number : \"))\n",
    "sum = a + b\n",
    "print(\"The sum of two number is : \" ,sum)"
   ]
  },
  {
   "cell_type": "markdown",
   "id": "c26fb8c5-41bb-430a-bc72-6fb15ca3668e",
   "metadata": {},
   "source": [
    "# Q 3.) Write a program to calculate the area of a rectangle."
   ]
  },
  {
   "cell_type": "code",
   "execution_count": 3,
   "id": "e10b9f50-5367-45d5-ab9a-9015870a3178",
   "metadata": {},
   "outputs": [
    {
     "name": "stdin",
     "output_type": "stream",
     "text": [
      "Enter the length:  5\n",
      "Enter the breadth:  6\n"
     ]
    },
    {
     "name": "stdout",
     "output_type": "stream",
     "text": [
      "The area of rectangle =  30.0\n"
     ]
    }
   ],
   "source": [
    "l = float(input(\"Enter the length: \"))\n",
    "b = float(input(\"Enter the breadth: \"))\n",
    "area_of_rectangle = l * b\n",
    "print(\"The area of rectangle = \", area_of_rectangle)"
   ]
  },
  {
   "cell_type": "markdown",
   "id": "76bfc308-a526-44e7-9f0d-192906981b96",
   "metadata": {},
   "source": [
    "# Q 4.) Write a Python program to check if a number is even or odd."
   ]
  },
  {
   "cell_type": "code",
   "execution_count": 4,
   "id": "b897418c-8598-4f5a-adb8-17b89aee4e11",
   "metadata": {},
   "outputs": [
    {
     "name": "stdin",
     "output_type": "stream",
     "text": [
      "Enter a number :  5\n"
     ]
    },
    {
     "name": "stdout",
     "output_type": "stream",
     "text": [
      "Odd\n"
     ]
    }
   ],
   "source": [
    "n = int(input(\"Enter a number : \" ))\n",
    "if (n % 2 == 0):\n",
    "    print(\"Even\")\n",
    "else: \n",
    "    print(\"Odd\")"
   ]
  },
  {
   "cell_type": "markdown",
   "id": "4a11eef3-40af-4307-a70d-080582fcb587",
   "metadata": {},
   "source": [
    "# Q 5.) Write a Python program to take a string as input and print it in reverse order."
   ]
  },
  {
   "cell_type": "code",
   "execution_count": 5,
   "id": "b7f7be84-342b-4c3d-8555-4090246b0d2c",
   "metadata": {},
   "outputs": [
    {
     "name": "stdin",
     "output_type": "stream",
     "text": [
      "Enter the string : utuutt\n"
     ]
    },
    {
     "name": "stdout",
     "output_type": "stream",
     "text": [
      "The reverse string is :  ttuutu\n"
     ]
    }
   ],
   "source": [
    "a = input(\"Enter the string :\")\n",
    "a = a[::-1]\n",
    "print(\"The reverse string is : \" , a)"
   ]
  },
  {
   "cell_type": "markdown",
   "id": "2fc1d5f5-8ffa-4c99-abad-fd7a7a1bc3f0",
   "metadata": {},
   "source": [
    "# Q 6.) Write a Python program to convert temperature from Celsius to Fahrenheit."
   ]
  },
  {
   "cell_type": "code",
   "execution_count": 6,
   "id": "e3b9ba23-ffce-4af5-b1f4-fb1737a4586a",
   "metadata": {},
   "outputs": [
    {
     "name": "stdin",
     "output_type": "stream",
     "text": [
      "Enter the celsius :  65\n"
     ]
    },
    {
     "name": "stdout",
     "output_type": "stream",
     "text": [
      "The fahrenheit is :  149.0\n"
     ]
    }
   ],
   "source": [
    "c = int(input(\"Enter the celsius : \"))\n",
    "f = (c * 1.8) + 32\n",
    "print(\"The fahrenheit is : \" , f)"
   ]
  },
  {
   "cell_type": "markdown",
   "id": "8289826a-8ddb-47dd-bcbd-df4369f291d6",
   "metadata": {},
   "source": [
    "# Q 7.) Write a program to take a list of numbers and print their sum."
   ]
  },
  {
   "cell_type": "code",
   "execution_count": 11,
   "id": "29fa3346-09b7-4091-98a9-e6c0870b350f",
   "metadata": {},
   "outputs": [
    {
     "ename": "TypeError",
     "evalue": "'int' object is not callable",
     "output_type": "error",
     "traceback": [
      "\u001b[1;31m---------------------------------------------------------------------------\u001b[0m",
      "\u001b[1;31mTypeError\u001b[0m                                 Traceback (most recent call last)",
      "Cell \u001b[1;32mIn[11], line 2\u001b[0m\n\u001b[0;32m      1\u001b[0m a \u001b[38;5;241m=\u001b[39m [\u001b[38;5;241m10\u001b[39m, \u001b[38;5;241m20\u001b[39m, \u001b[38;5;241m30\u001b[39m, \u001b[38;5;241m40\u001b[39m]\n\u001b[1;32m----> 2\u001b[0m \u001b[38;5;28;43msum\u001b[39;49m\u001b[43m(\u001b[49m\u001b[43ma\u001b[49m\u001b[43m)\u001b[49m\n",
      "\u001b[1;31mTypeError\u001b[0m: 'int' object is not callable"
     ]
    }
   ],
   "source": [
    "a = [10, 20, 30, 40]\n",
    "sum(a)"
   ]
  },
  {
   "cell_type": "code",
   "execution_count": 12,
   "id": "a40b9131-0ee3-4b3f-9424-dda4cd68c55d",
   "metadata": {},
   "outputs": [
    {
     "name": "stdout",
     "output_type": "stream",
     "text": [
      "The sum of list is :  100\n"
     ]
    }
   ],
   "source": [
    "a = [10, 20, 30, 40]\n",
    "b = 0\n",
    "for i in a:\n",
    "    b += i\n",
    "\n",
    "print(\"The sum of list is : \" , b)"
   ]
  },
  {
   "cell_type": "markdown",
   "id": "c26c8861-5065-415f-88f5-cfd5722299cf",
   "metadata": {},
   "source": [
    "# Q 8.) Write a Python program to swap two variables without using a temporary variable."
   ]
  },
  {
   "cell_type": "code",
   "execution_count": 13,
   "id": "bd2886a4-a343-4a3a-a64d-a9ea9bc1e261",
   "metadata": {},
   "outputs": [
    {
     "name": "stdin",
     "output_type": "stream",
     "text": [
      "Enter the first number :  56\n",
      "Enter the second number :  65\n"
     ]
    },
    {
     "name": "stdout",
     "output_type": "stream",
     "text": [
      "The swap number is :  65 56\n"
     ]
    }
   ],
   "source": [
    "a = int(input(\"Enter the first number : \"))\n",
    "b = int(input(\"Enter the second number : \"))\n",
    "a = a+b \n",
    "b = a-b\n",
    "a = a-b\n",
    "print(\"The swap number is : \" , a ,b)"
   ]
  },
  {
   "cell_type": "markdown",
   "id": "ea69f170-1d07-4bd4-92b1-7eb7d88dc94b",
   "metadata": {},
   "source": [
    "# Q 9.) Write a Python program to find the length of a string."
   ]
  },
  {
   "cell_type": "code",
   "execution_count": 14,
   "id": "027111ad-f342-432a-86b0-c79408cb3cdc",
   "metadata": {},
   "outputs": [
    {
     "name": "stdin",
     "output_type": "stream",
     "text": [
      "Enter the string : uttt\n"
     ]
    },
    {
     "name": "stdout",
     "output_type": "stream",
     "text": [
      "4\n"
     ]
    }
   ],
   "source": [
    "str = input(\"Enter the string :\" )\n",
    "print(len(str))"
   ]
  },
  {
   "cell_type": "markdown",
   "id": "7d9f3b70-2114-4941-bc02-acdc0554c85b",
   "metadata": {},
   "source": [
    "# Q 10 .) Write a program that reads an integer and prints its multiplication table. "
   ]
  },
  {
   "cell_type": "code",
   "execution_count": 15,
   "id": "3a1bea79-ac62-4034-b2ae-0b88c4636faf",
   "metadata": {},
   "outputs": [
    {
     "name": "stdin",
     "output_type": "stream",
     "text": [
      "Number which you  want multiple :  5\n"
     ]
    },
    {
     "name": "stdout",
     "output_type": "stream",
     "text": [
      "5 x 1 = 5\n",
      "5 x 2 = 10\n",
      "5 x 3 = 15\n",
      "5 x 4 = 20\n",
      "5 x 5 = 25\n",
      "5 x 6 = 30\n",
      "5 x 7 = 35\n",
      "5 x 8 = 40\n",
      "5 x 9 = 45\n",
      "5 x 10 = 50\n"
     ]
    }
   ],
   "source": [
    "num = int(input(\"Number which you  want multiple : \"))\n",
    "for i in range(1, 11):\n",
    "   print(num, 'x', i, '=', num*i)"
   ]
  },
  {
   "cell_type": "code",
   "execution_count": null,
   "id": "13c56c1f-a726-4407-a188-75a49539c384",
   "metadata": {},
   "outputs": [],
   "source": []
  }
 ],
 "metadata": {
  "kernelspec": {
   "display_name": "Python 3 (ipykernel)",
   "language": "python",
   "name": "python3"
  },
  "language_info": {
   "codemirror_mode": {
    "name": "ipython",
    "version": 3
   },
   "file_extension": ".py",
   "mimetype": "text/x-python",
   "name": "python",
   "nbconvert_exporter": "python",
   "pygments_lexer": "ipython3",
   "version": "3.12.8"
  }
 },
 "nbformat": 4,
 "nbformat_minor": 5
}
