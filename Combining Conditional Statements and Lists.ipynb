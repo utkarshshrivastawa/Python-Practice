{
 "cells": [
  {
   "cell_type": "markdown",
   "id": "318a8c13-2e55-4427-8110-4ed94bc1bfeb",
   "metadata": {},
   "source": [
    "# 1. Write a program to check if all elements in a list are positive numbers."
   ]
  },
  {
   "cell_type": "code",
   "execution_count": 1,
   "id": "e23fee17-96a5-4ab7-8263-15a9f7e5512a",
   "metadata": {},
   "outputs": [
    {
     "name": "stdout",
     "output_type": "stream",
     "text": [
      "False\n"
     ]
    }
   ],
   "source": [
    "numbers = [1, 2, -3, 4, 5]\n",
    "all_positive = True\n",
    "\n",
    "for num in numbers:\n",
    "    if num <= 0:\n",
    "        all_positive = False\n",
    "        break\n",
    "\n",
    "print(all_positive) "
   ]
  },
  {
   "cell_type": "code",
   "execution_count": 2,
   "id": "bee427ae-f93e-4cd0-bb40-f5c08285283d",
   "metadata": {},
   "outputs": [
    {
     "name": "stdout",
     "output_type": "stream",
     "text": [
      "False\n"
     ]
    }
   ],
   "source": [
    "numbers = [1, -2, 3, 4, 5]\n",
    "all_positive = all(num > 0 for num in numbers)\n",
    "\n",
    "print(all_positive) "
   ]
  },
  {
   "cell_type": "code",
   "execution_count": 3,
   "id": "01bc4f48-570d-4e04-9167-beb8ba48d2bc",
   "metadata": {},
   "outputs": [
    {
     "name": "stdout",
     "output_type": "stream",
     "text": [
      "True\n"
     ]
    }
   ],
   "source": [
    "import numpy as np\n",
    "\n",
    "numbers = [1, 2, 3, 4, 5]\n",
    "all_positive = np.all(np.array(numbers) > 0)\n",
    "\n",
    "print(all_positive)  "
   ]
  },
  {
   "cell_type": "markdown",
   "id": "fe500040-5105-4175-bb09-41d06d78756d",
   "metadata": {},
   "source": [
    "# 2. Create a Python script to filter out all odd numbers from a list."
   ]
  },
  {
   "cell_type": "code",
   "execution_count": 4,
   "id": "5658ca60-03f1-45fc-a15e-6c961b30b554",
   "metadata": {},
   "outputs": [
    {
     "name": "stdout",
     "output_type": "stream",
     "text": [
      "[2, 4, 6, 8, 10]\n"
     ]
    }
   ],
   "source": [
    "numbers = [1, 2, 3, 4, 5, 6, 7, 8, 9, 10]\n",
    "even_numbers = []\n",
    "\n",
    "for i in numbers:\n",
    "    if i % 2 == 0:\n",
    "        even_numbers.append(i)\n",
    "\n",
    "print(even_numbers) "
   ]
  },
  {
   "cell_type": "code",
   "execution_count": 5,
   "id": "707d1e92-cc66-4ffe-8b7f-d225686e0845",
   "metadata": {},
   "outputs": [
    {
     "name": "stdout",
     "output_type": "stream",
     "text": [
      "[2, 4, 6, 8, 10]\n"
     ]
    }
   ],
   "source": [
    "numbers = [1, 2, 3, 4, 5, 6, 7, 8, 9, 10]\n",
    "even_numbers = [i for i in numbers if i % 2 == 0]\n",
    "\n",
    "print(even_numbers)  "
   ]
  },
  {
   "cell_type": "code",
   "execution_count": 6,
   "id": "dcffd748-66d3-4818-a205-7072c6db10ec",
   "metadata": {},
   "outputs": [
    {
     "name": "stdout",
     "output_type": "stream",
     "text": [
      "[2, 4, 6, 8, 10]\n"
     ]
    }
   ],
   "source": [
    "numbers = [1, 2, 3, 4, 5, 6, 7, 8, 9, 10]\n",
    "even_numbers = list(filter(lambda x: x % 2 == 0, numbers))\n",
    "\n",
    "print(even_numbers)  # Output: [2, 4, 6, 8, 10]"
   ]
  },
  {
   "cell_type": "markdown",
   "id": "aeb2e0f1-d7eb-4868-a474-40cc887e13ae",
   "metadata": {},
   "source": [
    "# 3. Write a program to check if a specific element exists in a list."
   ]
  },
  {
   "cell_type": "code",
   "execution_count": 7,
   "id": "6715464d-5500-4229-8f67-4cc4d42fabab",
   "metadata": {},
   "outputs": [
    {
     "name": "stdout",
     "output_type": "stream",
     "text": [
      "True\n"
     ]
    }
   ],
   "source": [
    "numbers = [1, 2, 3, 4, 5, 6, 7, 8, 9, 10]\n",
    "element_to_check = 5\n",
    "\n",
    "exists = element_to_check in numbers\n",
    "print(exists)  "
   ]
  },
  {
   "cell_type": "code",
   "execution_count": 8,
   "id": "1ee42ada-817d-4e9c-8ce5-fd7a4a3ef2b6",
   "metadata": {},
   "outputs": [
    {
     "name": "stdout",
     "output_type": "stream",
     "text": [
      "False\n"
     ]
    }
   ],
   "source": [
    "numbers = [1, 2, 3, 4, 5, 6, 7, 8, 9, 10]\n",
    "element_to_check = 15\n",
    "exists = False\n",
    "\n",
    "for i in numbers:\n",
    "    if i == element_to_check:\n",
    "        exists = True\n",
    "        break\n",
    "\n",
    "print(exists) "
   ]
  },
  {
   "cell_type": "code",
   "execution_count": 9,
   "id": "11e0d86e-bf2c-4c03-93fe-c578dd95213d",
   "metadata": {},
   "outputs": [
    {
     "name": "stdout",
     "output_type": "stream",
     "text": [
      "True\n"
     ]
    }
   ],
   "source": [
    "numbers = [1, 2, 3, 4, 5, 6, 7, 8, 9, 10]\n",
    "element_to_check = 5\n",
    "\n",
    "try:\n",
    "    index = numbers.index(element_to_check)\n",
    "    exists = True\n",
    "except ValueError:\n",
    "    exists = False\n",
    "\n",
    "print(exists)  "
   ]
  },
  {
   "cell_type": "markdown",
   "id": "54a30baf-c994-4b85-a328-0d80676ddac4",
   "metadata": {},
   "source": [
    "# 4. Implement a program to calculate the sum of all even numbers in a list."
   ]
  },
  {
   "cell_type": "code",
   "execution_count": 10,
   "id": "fc167a2e-40ad-4e14-b44d-d59ded797a7e",
   "metadata": {},
   "outputs": [
    {
     "name": "stdout",
     "output_type": "stream",
     "text": [
      "30\n"
     ]
    }
   ],
   "source": [
    "numbers = [1, 2, 3, 4, 5, 6, 7, 8, 9, 10]\n",
    "sum_of_evens = 0\n",
    "\n",
    "for num in numbers:\n",
    "    if num % 2 == 0:\n",
    "        sum_of_evens += num\n",
    "\n",
    "print(sum_of_evens) "
   ]
  },
  {
   "cell_type": "code",
   "execution_count": 11,
   "id": "f2e5023b-d4af-425b-b3c6-72a6f02b07a8",
   "metadata": {},
   "outputs": [
    {
     "name": "stdout",
     "output_type": "stream",
     "text": [
      "30\n"
     ]
    }
   ],
   "source": [
    "numbers = [1, 2, 3, 4, 5, 6, 7, 8, 9, 10]\n",
    "sum_of_evens = sum(i for i in numbers if i % 2 == 0)\n",
    "\n",
    "print(sum_of_evens) "
   ]
  },
  {
   "cell_type": "code",
   "execution_count": 12,
   "id": "9c6cdedb-ea02-493f-a279-509cd6279d42",
   "metadata": {},
   "outputs": [
    {
     "name": "stdout",
     "output_type": "stream",
     "text": [
      "30\n"
     ]
    }
   ],
   "source": [
    "numbers = [1, 2, 3, 4, 5, 6, 7, 8, 9, 10]\n",
    "sum_of_evens = sum(filter(lambda x: x % 2 == 0, numbers))\n",
    "\n",
    "print(sum_of_evens)"
   ]
  },
  {
   "cell_type": "markdown",
   "id": "62fe7dd5-c928-4407-bbe6-8aa332a6145b",
   "metadata": {},
   "source": [
    "# 5. Write a program that finds all numbers in a list that are divisible by both 3 and 5."
   ]
  },
  {
   "cell_type": "code",
   "execution_count": 13,
   "id": "d56642e0-e50c-43aa-8d5f-c7e38949abc0",
   "metadata": {},
   "outputs": [
    {
     "name": "stdout",
     "output_type": "stream",
     "text": [
      "[15, 30, 45, 60, 75, 90]\n"
     ]
    }
   ],
   "source": [
    "numbers = [1, 2, 3, 4, 5, 15, 30, 45, 60, 75, 90, 100]\n",
    "divisible_by_3_and_5 = []\n",
    "\n",
    "for i in numbers:\n",
    "    if i % 3 == 0 and i % 5 == 0:\n",
    "        divisible_by_3_and_5.append(i)\n",
    "\n",
    "print(divisible_by_3_and_5)"
   ]
  },
  {
   "cell_type": "code",
   "execution_count": 14,
   "id": "60ac10d8-a6d7-4ba9-865e-50071932a877",
   "metadata": {},
   "outputs": [
    {
     "name": "stdout",
     "output_type": "stream",
     "text": [
      "[15, 30, 45, 60, 75, 90]\n"
     ]
    }
   ],
   "source": [
    "numbers = [1, 2, 3, 4, 5, 15, 30, 45, 60, 75, 90, 100]\n",
    "divisible_by_3_and_5 = [i for i in numbers if i % 3 == 0 and i % 5 == 0]\n",
    "\n",
    "print(divisible_by_3_and_5) "
   ]
  },
  {
   "cell_type": "code",
   "execution_count": 15,
   "id": "b915f875-8e45-415d-9802-faf172226b71",
   "metadata": {},
   "outputs": [
    {
     "name": "stdout",
     "output_type": "stream",
     "text": [
      "[15, 30, 45, 60, 75, 90]\n"
     ]
    }
   ],
   "source": [
    "numbers = [1, 2, 3, 4, 5, 15, 30, 45, 60, 75, 90, 100]\n",
    "divisible_by_3_and_5 = list(filter(lambda x: x % 3 == 0 and x % 5 == 0, numbers))\n",
    "\n",
    "print(divisible_by_3_and_5)"
   ]
  },
  {
   "cell_type": "markdown",
   "id": "3732fd9a-4f12-4ef2-a1a5-ab9b86ae8e18",
   "metadata": {},
   "source": [
    "# 6. Develop a script to create a new list with only unique elements from an existing list."
   ]
  },
  {
   "cell_type": "code",
   "execution_count": 16,
   "id": "0a3796fe-96d1-4617-a66f-699ab19fc4b9",
   "metadata": {},
   "outputs": [
    {
     "name": "stdout",
     "output_type": "stream",
     "text": [
      "[1, 2, 3, 4, 5, 6]\n"
     ]
    }
   ],
   "source": [
    "original_list = [1, 2, 2, 3, 4, 4, 5, 5, 6]\n",
    "unique_list = []\n",
    "\n",
    "for i in original_list:\n",
    "    if i not in unique_list:\n",
    "        unique_list.append(i)\n",
    "\n",
    "print(unique_list) "
   ]
  },
  {
   "cell_type": "code",
   "execution_count": 17,
   "id": "29a59708-6f73-4a4b-96a5-c4055c08bf55",
   "metadata": {},
   "outputs": [
    {
     "name": "stdout",
     "output_type": "stream",
     "text": [
      "[1, 2, 3, 4, 5, 6]\n"
     ]
    }
   ],
   "source": [
    "original_list = [1, 2, 2, 3, 4, 4, 5, 5, 6]\n",
    "unique_list = list(set(original_list))\n",
    "\n",
    "print(unique_list) "
   ]
  },
  {
   "cell_type": "markdown",
   "id": "143fe6e2-bdbc-4bd2-8e7e-2a040be9b0cf",
   "metadata": {},
   "source": [
    "# 7. Write a program to replace all negative numbers in a list with zero."
   ]
  },
  {
   "cell_type": "code",
   "execution_count": 18,
   "id": "484c62a2-8067-4afc-9310-c915b86d6d8b",
   "metadata": {},
   "outputs": [
    {
     "name": "stdout",
     "output_type": "stream",
     "text": [
      "[0, 2, 0, 4, 0, 6]\n"
     ]
    }
   ],
   "source": [
    "numbers = [-1, 2, -3, 4, -5, 6]\n",
    "for i in range(len(numbers)):\n",
    "    if numbers[i] < 0:\n",
    "        numbers[i] = 0\n",
    "\n",
    "print(numbers) "
   ]
  },
  {
   "cell_type": "code",
   "execution_count": 19,
   "id": "adac0eca-e371-4b68-8ed5-ed8c2330b9ea",
   "metadata": {},
   "outputs": [
    {
     "name": "stdout",
     "output_type": "stream",
     "text": [
      "[0, 2, 0, 4, 0, 6]\n"
     ]
    }
   ],
   "source": [
    "numbers = [-1, 2, -3, 4, -5, 6]\n",
    "numbers = [i if i >= 0 else 0 for i in numbers]\n",
    "\n",
    "print(numbers)  "
   ]
  },
  {
   "cell_type": "code",
   "execution_count": 20,
   "id": "f174e147-974e-47ef-917b-f270250f2f61",
   "metadata": {},
   "outputs": [
    {
     "name": "stdout",
     "output_type": "stream",
     "text": [
      "[0, 2, 0, 4, 0, 6]\n"
     ]
    }
   ],
   "source": [
    "numbers = [-1, 2, -3, 4, -5, 6]\n",
    "numbers = list(map(lambda x: x if x >= 0 else 0, numbers))\n",
    "print(numbers)  "
   ]
  },
  {
   "cell_type": "markdown",
   "id": "e9305c74-e8c2-4455-9508-2a2f1931cee9",
   "metadata": {},
   "source": [
    "# 8. Create a script to find all prime numbers in a given list."
   ]
  },
  {
   "cell_type": "code",
   "execution_count": 21,
   "id": "db3e9300-1321-446a-8eb6-a3d25a31ba5d",
   "metadata": {},
   "outputs": [
    {
     "name": "stdout",
     "output_type": "stream",
     "text": [
      "[2, 3, 5, 7, 11, 13]\n"
     ]
    }
   ],
   "source": [
    "numbers = [1, 2, 3, 4, 5, 6, 7, 8, 9, 10, 11, 12, 13, 14, 15]\n",
    "prime_numbers = []\n",
    "for num in numbers:\n",
    "    if num <= 1:\n",
    "        continue\n",
    "    is_prime = True\n",
    "    for i in range(2, int(num**0.5) + 1):\n",
    "        if num % i == 0:\n",
    "            is_prime = False\n",
    "            break\n",
    "    if is_prime:\n",
    "        prime_numbers.append(num)\n",
    "print(prime_numbers) "
   ]
  },
  {
   "cell_type": "code",
   "execution_count": 22,
   "id": "39e63304-0fa6-4227-a3a2-04d5e35c07c8",
   "metadata": {},
   "outputs": [
    {
     "name": "stdout",
     "output_type": "stream",
     "text": [
      "[2, 3, 5, 7, 11, 13]\n"
     ]
    }
   ],
   "source": [
    "numbers = [1, 2, 3, 4, 5, 6, 7, 8, 9, 10, 11, 12, 13, 14, 15]\n",
    "prime_numbers = [num for num in numbers if num > 1 and all(num % i != 0 for i in range(2, int(num**0.5) + 1))]\n",
    "print(prime_numbers) "
   ]
  },
  {
   "cell_type": "code",
   "execution_count": 23,
   "id": "3fbb94b4-3182-4fb8-87b0-2e7f78ad7d1a",
   "metadata": {},
   "outputs": [
    {
     "name": "stdout",
     "output_type": "stream",
     "text": [
      "[2, 3, 5, 7, 11, 13]\n"
     ]
    }
   ],
   "source": [
    "numbers = [1, 2, 3, 4, 5, 6, 7, 8, 9, 10, 11, 12, 13, 14, 15]\n",
    "prime_numbers = list(filter(lambda num: num > 1 and all(num % i != 0 for i in range(2, int(num**0.5) + 1)), numbers))\n",
    "print(prime_numbers) "
   ]
  },
  {
   "cell_type": "markdown",
   "id": "444801fe-7697-477b-b3c5-10a9be1721bb",
   "metadata": {},
   "source": [
    "# 9. Write a program that takes a list of numbers and returns a list of their squares if they are greater than 10."
   ]
  },
  {
   "cell_type": "code",
   "execution_count": 24,
   "id": "d9f44920-443f-4430-8800-b9a28f0857b2",
   "metadata": {},
   "outputs": [
    {
     "name": "stdout",
     "output_type": "stream",
     "text": [
      "[144, 225, 400, 121]\n"
     ]
    }
   ],
   "source": [
    "numbers = [5, 12, 15, 8, 20, 3, 11]\n",
    "squares = []\n",
    "for i in numbers:\n",
    "    if i > 10:\n",
    "        squares.append(i ** 2)\n",
    "print(squares)"
   ]
  },
  {
   "cell_type": "code",
   "execution_count": 25,
   "id": "8c2a5083-faab-42ce-9b49-e86b65891491",
   "metadata": {},
   "outputs": [
    {
     "name": "stdout",
     "output_type": "stream",
     "text": [
      "[144, 225, 400, 121]\n"
     ]
    }
   ],
   "source": [
    "numbers = [5, 12, 15, 8, 20, 3, 11]\n",
    "squares = [i ** 2 for i in numbers if i > 10]\n",
    "print(squares)  "
   ]
  },
  {
   "cell_type": "code",
   "execution_count": 26,
   "id": "5c4ebf15-d0ec-4ea9-9a5c-969013b5d408",
   "metadata": {},
   "outputs": [
    {
     "name": "stdout",
     "output_type": "stream",
     "text": [
      "[144, 225, 400, 121]\n"
     ]
    }
   ],
   "source": [
    "numbers = [5, 12, 15, 8, 20, 3, 11]\n",
    "squares = list(map(lambda x: x ** 2, filter(lambda x: x > 10, numbers)))\n",
    "print(squares) "
   ]
  },
  {
   "cell_type": "markdown",
   "id": "30160925-58e4-4327-8870-5fcb41fb0569",
   "metadata": {},
   "source": [
    "# 10. Implement a Python function to group elements of a list into sublists based on a condition (e.g., odd and even numbers)."
   ]
  },
  {
   "cell_type": "code",
   "execution_count": 27,
   "id": "a06d2dd1-e28b-44c3-bb37-c307c0059ba6",
   "metadata": {},
   "outputs": [
    {
     "name": "stdout",
     "output_type": "stream",
     "text": [
      "[[2, 4, 6, 8, 10], [1, 3, 5, 7, 9]]\n",
      "Even numbers list :  [2, 4, 6, 8, 10]\n",
      "Odd numbers list :  [1, 3, 5, 7, 9]\n"
     ]
    }
   ],
   "source": [
    "numbers = [1, 2, 3, 4, 5, 6, 7, 8, 9, 10]\n",
    "even_numbers = []\n",
    "odd_numbers = []\n",
    "\n",
    "for num in numbers:\n",
    "    if num % 2 == 0:\n",
    "        even_numbers.append(num)\n",
    "    else:\n",
    "        odd_numbers.append(num)\n",
    "\n",
    "grouped_numbers = [even_numbers, odd_numbers]\n",
    "print(grouped_numbers) \n",
    "\n",
    "print(\"Even numbers list : \", even_numbers)\n",
    "print(\"Odd numbers list : \", odd_numbers)"
   ]
  },
  {
   "cell_type": "code",
   "execution_count": 28,
   "id": "8ce3da24-e84b-492a-bdf0-486d9413d306",
   "metadata": {},
   "outputs": [
    {
     "name": "stdout",
     "output_type": "stream",
     "text": [
      "[[2, 4, 6, 8, 10], [1, 3, 5, 7, 9]]\n",
      "Even numbers list :  [2, 4, 6, 8, 10]\n",
      "Odd numbers list :  [1, 3, 5, 7, 9]\n"
     ]
    }
   ],
   "source": [
    "numbers = [1, 2, 3, 4, 5, 6, 7, 8, 9, 10]\n",
    "even_numbers = [i for i in numbers if i % 2 == 0]\n",
    "odd_numbers = [ i for i in numbers if i % 2 != 0]\n",
    "\n",
    "grouped_numbers = [even_numbers, odd_numbers]\n",
    "print(grouped_numbers) \n",
    "print(\"Even numbers list : \", even_numbers)\n",
    "print(\"Odd numbers list : \", odd_numbers)"
   ]
  },
  {
   "cell_type": "code",
   "execution_count": 29,
   "id": "69ae952b-d8c9-42b2-b543-27eb38c94bb9",
   "metadata": {},
   "outputs": [
    {
     "name": "stdout",
     "output_type": "stream",
     "text": [
      "[[2, 4, 6, 8, 10], [1, 3, 5, 7, 9]]\n",
      "Even numbers list :  [2, 4, 6, 8, 10]\n",
      "Odd numbers list :  [1, 3, 5, 7, 9]\n"
     ]
    }
   ],
   "source": [
    "numbers = [1, 2, 3, 4, 5, 6, 7, 8, 9, 10]\n",
    "even_numbers = list(filter(lambda x: x % 2 == 0, numbers))\n",
    "odd_numbers = list(filter(lambda x: x % 2 != 0, numbers))\n",
    "\n",
    "grouped_numbers = [even_numbers, odd_numbers]\n",
    "print(grouped_numbers)\n",
    "print(\"Even numbers list : \", even_numbers)\n",
    "print(\"Odd numbers list : \", odd_numbers)"
   ]
  },
  {
   "cell_type": "code",
   "execution_count": null,
   "id": "319c0789-cbea-4d28-824a-212037165d4d",
   "metadata": {},
   "outputs": [],
   "source": []
  }
 ],
 "metadata": {
  "kernelspec": {
   "display_name": "Python 3 (ipykernel)",
   "language": "python",
   "name": "python3"
  },
  "language_info": {
   "codemirror_mode": {
    "name": "ipython",
    "version": 3
   },
   "file_extension": ".py",
   "mimetype": "text/x-python",
   "name": "python",
   "nbconvert_exporter": "python",
   "pygments_lexer": "ipython3",
   "version": "3.12.8"
  }
 },
 "nbformat": 4,
 "nbformat_minor": 5
}
