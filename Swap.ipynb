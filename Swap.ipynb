{
 "cells": [
  {
   "cell_type": "markdown",
   "id": "5d9d2871-db49-4994-8535-9f517a06c577",
   "metadata": {},
   "source": [
    "# Swap using assigment operator "
   ]
  },
  {
   "cell_type": "code",
   "execution_count": 1,
   "id": "da20aee1-c6bb-4d4b-aa29-d92edbba62ef",
   "metadata": {},
   "outputs": [
    {
     "name": "stdout",
     "output_type": "stream",
     "text": [
      "15 10\n"
     ]
    }
   ],
   "source": [
    "a = 10 \n",
    "b  = 15\n",
    "a,b = b,a \n",
    "print(a,b)"
   ]
  },
  {
   "cell_type": "markdown",
   "id": "49533f86-ebd5-4226-ac6c-4c1c818f60b1",
   "metadata": {},
   "source": [
    "# Swap using third variable or temporary variable"
   ]
  },
  {
   "cell_type": "code",
   "execution_count": 2,
   "id": "01f857e7-f021-4294-a9d3-037517b06b8e",
   "metadata": {},
   "outputs": [
    {
     "name": "stdout",
     "output_type": "stream",
     "text": [
      "15 10\n"
     ]
    }
   ],
   "source": [
    "a = 10 \n",
    "b  = 15\n",
    "c =a \n",
    "a=b \n",
    "b = c \n",
    "print(a,b)"
   ]
  },
  {
   "cell_type": "markdown",
   "id": "914b50d4-d6f4-4b5c-a396-8c1f60330c54",
   "metadata": {},
   "source": [
    "# Swap using arithmatic operator ( +,-)"
   ]
  },
  {
   "cell_type": "code",
   "execution_count": 3,
   "id": "2cd4b62d-c1ea-4e73-92c7-f7e3f3242275",
   "metadata": {},
   "outputs": [
    {
     "name": "stdout",
     "output_type": "stream",
     "text": [
      "15 10\n"
     ]
    }
   ],
   "source": [
    "a = 10 \n",
    "b  = 15\n",
    "a = a+b \n",
    "b = a-b\n",
    "a = a-b\n",
    "print(a,b)"
   ]
  },
  {
   "cell_type": "markdown",
   "id": "a304d30d-280e-4225-878d-8803180a9ee3",
   "metadata": {},
   "source": [
    "# Swap using Bitwise Operator"
   ]
  },
  {
   "cell_type": "code",
   "execution_count": 4,
   "id": "fc2f6745-eafb-4cf2-ab1e-5bdf49495211",
   "metadata": {},
   "outputs": [
    {
     "name": "stdout",
     "output_type": "stream",
     "text": [
      "15 10\n"
     ]
    }
   ],
   "source": [
    "a = 10 \n",
    "b  = 15\n",
    " \n",
    "a = a^b\n",
    "b = a^b\n",
    "a = a^b\n",
    "print(a,b)"
   ]
  },
  {
   "cell_type": "markdown",
   "id": "238cc1f7-ab4e-4d24-85fb-0859dc21696d",
   "metadata": {},
   "source": [
    "# Swap using arithmatic operator (/,*)"
   ]
  },
  {
   "cell_type": "code",
   "execution_count": 5,
   "id": "b805a489-2e52-4fe3-aa3f-a56372abf916",
   "metadata": {},
   "outputs": [
    {
     "name": "stdout",
     "output_type": "stream",
     "text": [
      "15.0 10.0\n"
     ]
    }
   ],
   "source": [
    "a  = 10\n",
    "b = 15\n",
    "a = a * b\n",
    "b = a / b\n",
    "a = a / b\n",
    "print(a ,b )"
   ]
  },
  {
   "cell_type": "code",
   "execution_count": null,
   "id": "95539f10-5329-40c6-aaeb-0c7f5fd9c326",
   "metadata": {},
   "outputs": [],
   "source": []
  }
 ],
 "metadata": {
  "kernelspec": {
   "display_name": "Python 3 (ipykernel)",
   "language": "python",
   "name": "python3"
  },
  "language_info": {
   "codemirror_mode": {
    "name": "ipython",
    "version": 3
   },
   "file_extension": ".py",
   "mimetype": "text/x-python",
   "name": "python",
   "nbconvert_exporter": "python",
   "pygments_lexer": "ipython3",
   "version": "3.12.8"
  }
 },
 "nbformat": 4,
 "nbformat_minor": 5
}
